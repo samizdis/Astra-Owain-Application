{
 "cells": [
  {
   "cell_type": "code",
   "execution_count": 1,
   "id": "04d8f5c6",
   "metadata": {},
   "outputs": [],
   "source": [
    "%load_ext autoreload\n",
    "%autoreload 2"
   ]
  },
  {
   "cell_type": "code",
   "execution_count": 2,
   "id": "4e2b97b9",
   "metadata": {},
   "outputs": [],
   "source": [
    "from urllib.request import urlopen\n",
    "import json\n",
    "import glob\n",
    "\n",
    "import pandas as pd\n",
    "\n",
    "import seaborn as sns\n",
    "import matplotlib.pyplot as plt\n",
    "\n",
    "from bible import kjv_verses, erv_verses, rv1989_verses\n",
    "from gpt_classification import run_gpt_classification, gpt_explain_reasoning\n",
    "from utils import save_dict_of_dfs_with_df_elements, load_dict_of_dfs_with_df_elements"
   ]
  },
  {
   "cell_type": "code",
   "execution_count": 3,
   "id": "fb85cc69",
   "metadata": {},
   "outputs": [
    {
     "data": {
      "text/plain": [
       "['In the beginning God created the heaven and the earth.\\n',\n",
       " 'And the earth was without form, and void; and darkness [was] upon the face of the deep. And the Spirit of God moved upon the face of the waters.\\n',\n",
       " 'And God said, Let there be light: and there was light.\\n',\n",
       " 'And God saw the light, that [it was] good: and God divided the light from the darkness.\\n',\n",
       " 'And God called the light Day, and the darkness he called Night. And the evening and the morning were the first day.\\n']"
      ]
     },
     "execution_count": 3,
     "metadata": {},
     "output_type": "execute_result"
    }
   ],
   "source": [
    "kjv_verses[:5]"
   ]
  },
  {
   "cell_type": "code",
   "execution_count": 4,
   "id": "a6cde2f9",
   "metadata": {},
   "outputs": [
    {
     "data": {
      "text/plain": [
       "['In the beginning God created the heaven and the earth.\\n',\n",
       " 'And the earth was waste and void; and darkness was upon the face of the deep: and the spirit of God moved upon the face of the waters.\\n',\n",
       " 'And God said, Let there be light: and there was light.\\n',\n",
       " 'And God saw the light, that it was good: and God divided the light from the darkness.\\n',\n",
       " 'And God called the light Day, and the darkness he called Night. And there was evening and there was morning, one day.\\n']"
      ]
     },
     "execution_count": 4,
     "metadata": {},
     "output_type": "execute_result"
    }
   ],
   "source": [
    "erv_verses[:5]"
   ]
  },
  {
   "cell_type": "code",
   "execution_count": 5,
   "id": "3797b2cc",
   "metadata": {},
   "outputs": [
    {
     "data": {
      "text/plain": [
       "['EN el principio crió Dios los cielos y la tierra.',\n",
       " 'Y la tierra estaba desordenada y vacía, y las tinieblas estaban sobre la haz del abismo, y el Espíritu de Dios se movía sobre la haz de las aguas.',\n",
       " 'Y dijo Dios: Sea la luz: y fué la luz.',\n",
       " 'Y vió Dios que la luz era buena: y apartó Dios la luz de las tinieblas.',\n",
       " 'Y llamó Dios á la luz Día, y á las tinieblas llamó Noche: y fué la tarde y la mañana un día.']"
      ]
     },
     "execution_count": 5,
     "metadata": {},
     "output_type": "execute_result"
    }
   ],
   "source": [
    "rv1989_verses[:5]"
   ]
  },
  {
   "cell_type": "code",
   "execution_count": 6,
   "id": "e93fb36c",
   "metadata": {},
   "outputs": [
    {
     "data": {
      "text/html": [
       "<div>\n",
       "<style scoped>\n",
       "    .dataframe tbody tr th:only-of-type {\n",
       "        vertical-align: middle;\n",
       "    }\n",
       "\n",
       "    .dataframe tbody tr th {\n",
       "        vertical-align: top;\n",
       "    }\n",
       "\n",
       "    .dataframe thead th {\n",
       "        text-align: right;\n",
       "    }\n",
       "</style>\n",
       "<table border=\"1\" class=\"dataframe\">\n",
       "  <thead>\n",
       "    <tr style=\"text-align: right;\">\n",
       "      <th></th>\n",
       "      <th>text</th>\n",
       "      <th>label</th>\n",
       "    </tr>\n",
       "  </thead>\n",
       "  <tbody>\n",
       "    <tr>\n",
       "      <th>29225</th>\n",
       "      <td>And what [is] the exceeding greatness of his p...</td>\n",
       "      <td>True</td>\n",
       "    </tr>\n",
       "    <tr>\n",
       "      <th>4543</th>\n",
       "      <td>A los más darás mayor heredad, y á los menos m...</td>\n",
       "      <td>False</td>\n",
       "    </tr>\n",
       "    <tr>\n",
       "      <th>7835</th>\n",
       "      <td>Saul also and his men went to seek [him]. And ...</td>\n",
       "      <td>True</td>\n",
       "    </tr>\n",
       "    <tr>\n",
       "      <th>20488</th>\n",
       "      <td>Y oí el sonido de sus alas cuando andaban, com...</td>\n",
       "      <td>False</td>\n",
       "    </tr>\n",
       "    <tr>\n",
       "      <th>26237</th>\n",
       "      <td>Y también le dió poder de hacer juicio, en cua...</td>\n",
       "      <td>False</td>\n",
       "    </tr>\n",
       "    <tr>\n",
       "      <th>...</th>\n",
       "      <td>...</td>\n",
       "      <td>...</td>\n",
       "    </tr>\n",
       "    <tr>\n",
       "      <th>23241</th>\n",
       "      <td>Blessed [are] the merciful: for they shall obt...</td>\n",
       "      <td>True</td>\n",
       "    </tr>\n",
       "    <tr>\n",
       "      <th>7056</th>\n",
       "      <td>And the chief of all the people, [even] of all...</td>\n",
       "      <td>True</td>\n",
       "    </tr>\n",
       "    <tr>\n",
       "      <th>860</th>\n",
       "      <td>Porque poco tenías antes de mi venida, y ha cr...</td>\n",
       "      <td>False</td>\n",
       "    </tr>\n",
       "    <tr>\n",
       "      <th>15795</th>\n",
       "      <td>Grandes son las obras de Jehová; Buscadas de t...</td>\n",
       "      <td>False</td>\n",
       "    </tr>\n",
       "    <tr>\n",
       "      <th>25320</th>\n",
       "      <td>They answering said, John the Baptist; but som...</td>\n",
       "      <td>True</td>\n",
       "    </tr>\n",
       "  </tbody>\n",
       "</table>\n",
       "<p>62204 rows × 2 columns</p>\n",
       "</div>"
      ],
      "text/plain": [
       "                                                    text  label\n",
       "29225  And what [is] the exceeding greatness of his p...   True\n",
       "4543   A los más darás mayor heredad, y á los menos m...  False\n",
       "7835   Saul also and his men went to seek [him]. And ...   True\n",
       "20488  Y oí el sonido de sus alas cuando andaban, com...  False\n",
       "26237  Y también le dió poder de hacer juicio, en cua...  False\n",
       "...                                                  ...    ...\n",
       "23241  Blessed [are] the merciful: for they shall obt...   True\n",
       "7056   And the chief of all the people, [even] of all...   True\n",
       "860    Porque poco tenías antes de mi venida, y ha cr...  False\n",
       "15795  Grandes son las obras de Jehová; Buscadas de t...  False\n",
       "25320  They answering said, John the Baptist; but som...   True\n",
       "\n",
       "[62204 rows x 2 columns]"
      ]
     },
     "execution_count": 6,
     "metadata": {},
     "output_type": "execute_result"
    }
   ],
   "source": [
    "rv1989_df = pd.DataFrame(rv1989_verses, columns=['text'])\n",
    "rv1989_df['label'] = False\n",
    "\n",
    "kjv_df = pd.DataFrame(kjv_verses, columns=['text'])\n",
    "kjv_df['label'] = True\n",
    "\n",
    "rv1989_or_kjv_df = pd.concat([rv1989_df, kjv_df]).sample(frac=1, random_state=42)\n",
    "rv1989_or_kjv_df"
   ]
  },
  {
   "cell_type": "code",
   "execution_count": 7,
   "id": "d29af75b",
   "metadata": {},
   "outputs": [
    {
     "data": {
      "text/html": [
       "<div>\n",
       "<style scoped>\n",
       "    .dataframe tbody tr th:only-of-type {\n",
       "        vertical-align: middle;\n",
       "    }\n",
       "\n",
       "    .dataframe tbody tr th {\n",
       "        vertical-align: top;\n",
       "    }\n",
       "\n",
       "    .dataframe thead th {\n",
       "        text-align: right;\n",
       "    }\n",
       "</style>\n",
       "<table border=\"1\" class=\"dataframe\">\n",
       "  <thead>\n",
       "    <tr style=\"text-align: right;\">\n",
       "      <th></th>\n",
       "      <th>text</th>\n",
       "      <th>label</th>\n",
       "    </tr>\n",
       "  </thead>\n",
       "  <tbody>\n",
       "    <tr>\n",
       "      <th>29225</th>\n",
       "      <td>And what [is] the exceeding greatness of his p...</td>\n",
       "      <td>True</td>\n",
       "    </tr>\n",
       "    <tr>\n",
       "      <th>4543</th>\n",
       "      <td>To the more thou shalt give the more inheritan...</td>\n",
       "      <td>False</td>\n",
       "    </tr>\n",
       "    <tr>\n",
       "      <th>7835</th>\n",
       "      <td>Saul also and his men went to seek [him]. And ...</td>\n",
       "      <td>True</td>\n",
       "    </tr>\n",
       "    <tr>\n",
       "      <th>20488</th>\n",
       "      <td>And when they went, I heard the noise of their...</td>\n",
       "      <td>False</td>\n",
       "    </tr>\n",
       "    <tr>\n",
       "      <th>26237</th>\n",
       "      <td>and he gave him authority to execute judgment,...</td>\n",
       "      <td>False</td>\n",
       "    </tr>\n",
       "    <tr>\n",
       "      <th>...</th>\n",
       "      <td>...</td>\n",
       "      <td>...</td>\n",
       "    </tr>\n",
       "    <tr>\n",
       "      <th>23241</th>\n",
       "      <td>Blessed [are] the merciful: for they shall obt...</td>\n",
       "      <td>True</td>\n",
       "    </tr>\n",
       "    <tr>\n",
       "      <th>7056</th>\n",
       "      <td>And the chief of all the people, [even] of all...</td>\n",
       "      <td>True</td>\n",
       "    </tr>\n",
       "    <tr>\n",
       "      <th>860</th>\n",
       "      <td>For it was little which thou hadst before I ca...</td>\n",
       "      <td>False</td>\n",
       "    </tr>\n",
       "    <tr>\n",
       "      <th>15795</th>\n",
       "      <td>The works of the LORD are great, sought out of...</td>\n",
       "      <td>False</td>\n",
       "    </tr>\n",
       "    <tr>\n",
       "      <th>25320</th>\n",
       "      <td>They answering said, John the Baptist; but som...</td>\n",
       "      <td>True</td>\n",
       "    </tr>\n",
       "  </tbody>\n",
       "</table>\n",
       "<p>62204 rows × 2 columns</p>\n",
       "</div>"
      ],
      "text/plain": [
       "                                                    text  label\n",
       "29225  And what [is] the exceeding greatness of his p...   True\n",
       "4543   To the more thou shalt give the more inheritan...  False\n",
       "7835   Saul also and his men went to seek [him]. And ...   True\n",
       "20488  And when they went, I heard the noise of their...  False\n",
       "26237  and he gave him authority to execute judgment,...  False\n",
       "...                                                  ...    ...\n",
       "23241  Blessed [are] the merciful: for they shall obt...   True\n",
       "7056   And the chief of all the people, [even] of all...   True\n",
       "860    For it was little which thou hadst before I ca...  False\n",
       "15795  The works of the LORD are great, sought out of...  False\n",
       "25320  They answering said, John the Baptist; but som...   True\n",
       "\n",
       "[62204 rows x 2 columns]"
      ]
     },
     "execution_count": 7,
     "metadata": {},
     "output_type": "execute_result"
    }
   ],
   "source": [
    "erv_df = pd.DataFrame(erv_verses, columns=['text'])\n",
    "erv_df['label'] = False\n",
    "\n",
    "kjv_df = pd.DataFrame(kjv_verses, columns=['text'])\n",
    "kjv_df['label'] = True\n",
    "\n",
    "erv_or_kjv_df = pd.concat([erv_df, kjv_df]).sample(frac=1, random_state=42)\n",
    "erv_or_kjv_df"
   ]
  },
  {
   "cell_type": "code",
   "execution_count": 8,
   "id": "2d7f9f23",
   "metadata": {},
   "outputs": [
    {
     "name": "stdout",
     "output_type": "stream",
     "text": [
      "True     31102\n",
      "False    31102\n",
      "Name: label, dtype: int64\n",
      "\n",
      "True     31102\n",
      "False    31102\n",
      "Name: label, dtype: int64\n"
     ]
    }
   ],
   "source": [
    "# All translations have same number of verses, so dataset is balanced\n",
    "print(rv1989_or_kjv_df['label'].value_counts())\n",
    "print()\n",
    "print(erv_or_kjv_df['label'].value_counts())"
   ]
  },
  {
   "cell_type": "code",
   "execution_count": 9,
   "id": "57d641d7",
   "metadata": {},
   "outputs": [],
   "source": [
    "# Load the files, if we've run this before, else calculate & save\n",
    "\n",
    "stem = 'rv1989_or_kjv_classification_results'\n",
    "dataset = rv1989_or_kjv_df\n",
    "\n",
    "if glob.glob(f'data/{stem}*feather'):\n",
    "    rv1989_or_kjv_classification_results = load_dict_of_dfs_with_df_elements(\n",
    "        filename_stem=stem,\n",
    "        models_to_load=['gpt-4']\n",
    "    )\n",
    "else:\n",
    "    rv1989_or_kjv_classification_results = run_gpt_classification(\n",
    "        dataset,\n",
    "        max_num_examples=100,\n",
    "    )\n",
    "    save_dict_of_dfs_with_df_elements(\n",
    "        rv1989_or_kjv_classification_results,\n",
    "        stem\n",
    "    )"
   ]
  },
  {
   "cell_type": "code",
   "execution_count": 10,
   "id": "393daf4a",
   "metadata": {},
   "outputs": [],
   "source": [
    "# Load the files, if we've run this before, else calculate & save\n",
    "\n",
    "stem = 'erv_or_kjv_classification_results'\n",
    "dataset = erv_or_kjv_df\n",
    "\n",
    "if glob.glob(f'data/{stem}*feather'):\n",
    "    erv_or_kjv_classification_results = load_dict_of_dfs_with_df_elements(\n",
    "        filename_stem=stem,\n",
    "        models_to_load=['gpt-4']\n",
    "    )\n",
    "else:\n",
    "    erv_or_kjv_classification_results = run_gpt_classification(\n",
    "        dataset,\n",
    "        max_num_examples=100,\n",
    "    )\n",
    "    save_dict_of_dfs_with_df_elements(\n",
    "        erv_or_kjv_classification_results,\n",
    "        stem\n",
    "    )"
   ]
  },
  {
   "cell_type": "code",
   "execution_count": 15,
   "id": "f15faf52",
   "metadata": {},
   "outputs": [
    {
     "data": {
      "image/png": "[encoded data removed]",
      "text/plain": [
       "<Figure size 432x288 with 1 Axes>"
      ]
     },
     "metadata": {
      "needs_background": "light"
     },
     "output_type": "display_data"
    }
   ],
   "source": [
    "sns.scatterplot(data=rv1989_or_kjv_classification_results['gpt-4'],\n",
    "                x='num_examples', y='success', label='RV vs KJV')\n",
    "sns.scatterplot(data=erv_or_kjv_classification_results['gpt-4'],\n",
    "                x='num_examples', y='success', label='ERV vs KJV')\n",
    "plt.ylim(-0.1, 1.1)\n",
    "plt.axhline(0, linestyle=':')\n",
    "plt.axhline(0.5, linestyle=':')\n",
    "plt.axhline(0.9, linestyle=':')\n",
    "plt.axhline(1, linestyle=':')\n",
    "plt.savefig('report/images/bible-classification.png')"
   ]
  },
  {
   "cell_type": "code",
   "execution_count": 12,
   "id": "ae308d81",
   "metadata": {},
   "outputs": [
    {
     "name": "stdout",
     "output_type": "stream",
     "text": [
      "=== 4 ===\n",
      "The classification rule appears to be labeling the statements as true if they are quotes or phrases directly taken from a religious text, specifically the Bible.\n",
      "=== 8 ===\n",
      "The classification rule is based on the language of the text. Statements written in English are labelled as 'True', while those written in another language (Spanish in this case) are labelled as 'False'.\n",
      "=== 16 ===\n",
      "The classification rule is language-based. Statements or sentences written in English are labelled as \"True\", while those written in Spanish are labelled as \"False.\"\n",
      "=== 24 ===\n",
      "The classification rule is based on whether the text is in English (labelled as 'True') or in Spanish (labelled as 'False').\n",
      "=== 32 ===\n",
      "The classification rule is whether the statement is in English (labelled as 'True') or in Spanish (labelled as 'False').\n"
     ]
    }
   ],
   "source": [
    "for num_examples in [4, 8, 16, 24, 32]:\n",
    "    print('===', num_examples, '===')\n",
    "    print(gpt_explain_reasoning(\n",
    "        rv1989_or_kjv_df.sample(n=num_examples, random_state=42)\n",
    "    ))"
   ]
  },
  {
   "cell_type": "code",
   "execution_count": 13,
   "id": "8f04bb5b",
   "metadata": {},
   "outputs": [
    {
     "name": "stdout",
     "output_type": "stream",
     "text": [
      "=== 4 ===\n",
      "The classification rule is that all the statements are labelled as \"True\". There doesn't seem to be a specific theme or content condition, just that their truth value is affirmed. It's also notable that these statements are written in an archaic style, indicative of a religious text, potentially the Bible.\n",
      "=== 8 ===\n",
      "The classification rule appears to be that if the statement is a verse or passage directly from the Bible, it is labelled as 'True'. If the statement deviates in any form from the Bible verse or passage, it is labelled 'False'.\n",
      "=== 16 ===\n",
      "The classification rule seems to be that if the statement is a direct quote from the Bible, it is classified as \"True.\" If the statement is a misquote or not a quotation from the Bible, it is classified as \"False.\"\n",
      "=== 24 ===\n",
      "The classification rule for these statements could be that statements that are labelled as \"True\" are direct quotes from the Bible's Old Testament, while statements that are labelled as \"False\" are either altered versions of quotes from the Bible or direct quotes from the New Testament.\n",
      "=== 32 ===\n",
      "The classification rule can be described as follows: If the statement sounds like a direct quote from The Bible, it is marked as True. If it sounds like paraphrased or adjusted Bible quotes, it is marked as False.\n",
      "=== 40 ===\n",
      "The classification rule appears to be that 'True' is assigned to statements that are neutral or positive in nature, while 'False' is assigned to statements that make a negative claim or prediction. Additionally, 'True' is most often assigned to direct statements of fact, whereas 'False' is often assigned to admonitions, warnings, or statements about future events. This pattern is not completely consistent, however, and there may be some additional factors influencing the labeling.\n"
     ]
    }
   ],
   "source": [
    "for num_examples in [4, 8, 16, 24, 32, 40]:\n",
    "    print('===', num_examples, '===')\n",
    "    print(gpt_explain_reasoning(\n",
    "        erv_or_kjv_df.sample(n=num_examples, random_state=42)\n",
    "    ))"
   ]
  },
  {
   "cell_type": "markdown",
   "id": "080fecad",
   "metadata": {},
   "source": [
    "### So, obvious question: are ERV & KJV actually sufficiently different?"
   ]
  },
  {
   "cell_type": "code",
   "execution_count": 14,
   "id": "083176d0",
   "metadata": {},
   "outputs": [
    {
     "data": {
      "text/plain": [
       "0.11182560607034918"
      ]
     },
     "execution_count": 14,
     "metadata": {},
     "output_type": "execute_result"
    }
   ],
   "source": [
    "erv_eq_kjv = erv_df['text'] == kjv_df['text']\n",
    "erv_eq_kjv.sum() / erv_eq_kjv.count()"
   ]
  },
  {
   "cell_type": "markdown",
   "id": "828d9d47",
   "metadata": {},
   "source": [
    "### Yeah, should be able to get ~80%"
   ]
  },
  {
   "cell_type": "code",
   "execution_count": null,
   "id": "9c524262",
   "metadata": {},
   "outputs": [],
   "source": []
  }
 ],
 "metadata": {
  "kernelspec": {
   "display_name": "Python 3 (ipykernel)",
   "language": "python",
   "name": "python3"
  },
  "language_info": {
   "codemirror_mode": {
    "name": "ipython",
    "version": 3
   },
   "file_extension": ".py",
   "mimetype": "text/x-python",
   "name": "python",
   "nbconvert_exporter": "python",
   "pygments_lexer": "ipython3",
   "version": "3.10.5"
  }
 },
 "nbformat": 4,
 "nbformat_minor": 5
}
