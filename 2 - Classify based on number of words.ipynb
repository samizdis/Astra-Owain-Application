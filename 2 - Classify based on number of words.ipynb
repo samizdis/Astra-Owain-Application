{
 "cells": [
  {
   "cell_type": "code",
   "execution_count": 1,
   "id": "ef8dab24",
   "metadata": {},
   "outputs": [],
   "source": [
    "%load_ext autoreload\n",
    "%autoreload 2"
   ]
  },
  {
   "cell_type": "code",
   "execution_count": 2,
   "id": "2cc6e928",
   "metadata": {},
   "outputs": [],
   "source": [
    "import glob\n",
    "\n",
    "import pandas as pd\n",
    "import numpy as np\n",
    "\n",
    "import seaborn as sns\n",
    "import matplotlib.pyplot as plt\n",
    "\n",
    "from gpt_classification import (\n",
    "    run_gpt_classification,\n",
    "    gpt_explain_reasoning,\n",
    ")\n",
    "from data_functions import balanced_dataset\n",
    "from shakespeare import comedy_of_errors\n",
    "from utils import save_dict_of_dfs_with_df_elements, load_dict_of_dfs_with_df_elements"
   ]
  },
  {
   "cell_type": "markdown",
   "id": "4092c725",
   "metadata": {},
   "source": [
    "### Plot the distribution of num-words-per-line in Comedy of Errors"
   ]
  },
  {
   "cell_type": "code",
   "execution_count": 28,
   "id": "9e0c91b5",
   "metadata": {},
   "outputs": [
    {
     "data": {
      "image/png": "[encoded data removed]",
      "text/plain": [
       "<Figure size 432x288 with 1 Axes>"
      ]
     },
     "metadata": {
      "needs_background": "light"
     },
     "output_type": "display_data"
    }
   ],
   "source": [
    "sns.histplot([len(s.split()) for s in comedy_of_errors])\n",
    "plt.axvline(np.median([len(s.split()) for s in comedy_of_errors]), color='red')\n",
    "plt.savefig('report/images/comedy-of-errors-lines-wordcount-histogram.png')"
   ]
  },
  {
   "cell_type": "markdown",
   "id": "f9089323",
   "metadata": {},
   "source": [
    "### Seems like 5 & 8 are suitable thresholds"
   ]
  },
  {
   "cell_type": "code",
   "execution_count": 4,
   "id": "27fbd301",
   "metadata": {},
   "outputs": [],
   "source": [
    "experiments = {\n",
    "    '< 5 #words': \"True iff the statement has fewer than 5 words (space-separated)\",\n",
    "    '< 8 #words': \"True iff the statement has fewer than 8 words (space-separated)\",\n",
    "    'odd #words': \"True iff the statement has an odd number of words (space-separated)\",\n",
    "}"
   ]
  },
  {
   "cell_type": "code",
   "execution_count": 5,
   "id": "8f99c3fc",
   "metadata": {},
   "outputs": [],
   "source": [
    "classification_results = {}"
   ]
  },
  {
   "cell_type": "code",
   "execution_count": 6,
   "id": "fe29a55d",
   "metadata": {},
   "outputs": [],
   "source": [
    "test_fns = {\n",
    "    '< 5 words': lambda s: len(s.split()) < 5,\n",
    "    '< 8 words': lambda s: len(s.split()) < 8,\n",
    "    'odd #words': lambda s: len(s.split()) % 2 == 1,\n",
    "}"
   ]
  },
  {
   "cell_type": "code",
   "execution_count": 7,
   "id": "d1a425b3",
   "metadata": {},
   "outputs": [],
   "source": [
    "def generate_classification_dataset(base_dataset, test_fn, remove_empty_elements=True, is_balanced=True):\n",
    "    \n",
    "    if remove_empty_elements:\n",
    "        base_dataset = [e for e in base_dataset if e]\n",
    "        \n",
    "    df = pd.DataFrame(base_dataset, columns=['text'])\n",
    "    df['label'] = df['text'].apply(test_fn)\n",
    "    \n",
    "    if is_balanced:\n",
    "        df = balanced_dataset(df, test_fn)\n",
    "    return df"
   ]
  },
  {
   "cell_type": "markdown",
   "id": "e48d4438",
   "metadata": {},
   "source": [
    "# Less-than-8-words"
   ]
  },
  {
   "cell_type": "code",
   "execution_count": 8,
   "id": "748ab889",
   "metadata": {},
   "outputs": [
    {
     "data": {
      "text/html": [
       "<div>\n",
       "<style scoped>\n",
       "    .dataframe tbody tr th:only-of-type {\n",
       "        vertical-align: middle;\n",
       "    }\n",
       "\n",
       "    .dataframe tbody tr th {\n",
       "        vertical-align: top;\n",
       "    }\n",
       "\n",
       "    .dataframe thead th {\n",
       "        text-align: right;\n",
       "    }\n",
       "</style>\n",
       "<table border=\"1\" class=\"dataframe\">\n",
       "  <thead>\n",
       "    <tr style=\"text-align: right;\">\n",
       "      <th></th>\n",
       "      <th>text</th>\n",
       "      <th>label</th>\n",
       "    </tr>\n",
       "  </thead>\n",
       "  <tbody>\n",
       "    <tr>\n",
       "      <th>1707</th>\n",
       "      <td>And, gazing in mine eyes, feeling my pulse,</td>\n",
       "      <td>False</td>\n",
       "    </tr>\n",
       "    <tr>\n",
       "      <th>1508</th>\n",
       "      <td>A sin prevailing much in youthful men</td>\n",
       "      <td>True</td>\n",
       "    </tr>\n",
       "    <tr>\n",
       "      <th>312</th>\n",
       "      <td>Say, didst thou speak with him? Know’st thou his</td>\n",
       "      <td>False</td>\n",
       "    </tr>\n",
       "    <tr>\n",
       "      <th>1513</th>\n",
       "      <td>You should for that have reprehended him.</td>\n",
       "      <td>True</td>\n",
       "    </tr>\n",
       "    <tr>\n",
       "      <th>1542</th>\n",
       "      <td>In food, in sport, and life-preserving rest</td>\n",
       "      <td>True</td>\n",
       "    </tr>\n",
       "    <tr>\n",
       "      <th>...</th>\n",
       "      <td>...</td>\n",
       "      <td>...</td>\n",
       "    </tr>\n",
       "    <tr>\n",
       "      <th>971</th>\n",
       "      <td>I’ll stop mine ears against the mermaid’s song.</td>\n",
       "      <td>False</td>\n",
       "    </tr>\n",
       "    <tr>\n",
       "      <th>762</th>\n",
       "      <td>And let us to the Tiger all to dinner,</td>\n",
       "      <td>False</td>\n",
       "    </tr>\n",
       "    <tr>\n",
       "      <th>1413</th>\n",
       "      <td>I will discharge thee ere I go from thee.</td>\n",
       "      <td>False</td>\n",
       "    </tr>\n",
       "    <tr>\n",
       "      <th>301</th>\n",
       "      <td>But were we burdened with like weight of pain,</td>\n",
       "      <td>False</td>\n",
       "    </tr>\n",
       "    <tr>\n",
       "      <th>775</th>\n",
       "      <td>And, in despite of mirth, mean to be merry.</td>\n",
       "      <td>False</td>\n",
       "    </tr>\n",
       "  </tbody>\n",
       "</table>\n",
       "<p>1466 rows × 2 columns</p>\n",
       "</div>"
      ],
      "text/plain": [
       "                                                  text  label\n",
       "1707       And, gazing in mine eyes, feeling my pulse,  False\n",
       "1508             A sin prevailing much in youthful men   True\n",
       "312   Say, didst thou speak with him? Know’st thou his  False\n",
       "1513         You should for that have reprehended him.   True\n",
       "1542       In food, in sport, and life-preserving rest   True\n",
       "...                                                ...    ...\n",
       "971    I’ll stop mine ears against the mermaid’s song.  False\n",
       "762             And let us to the Tiger all to dinner,  False\n",
       "1413         I will discharge thee ere I go from thee.  False\n",
       "301     But were we burdened with like weight of pain,  False\n",
       "775        And, in despite of mirth, mean to be merry.  False\n",
       "\n",
       "[1466 rows x 2 columns]"
      ]
     },
     "execution_count": 8,
     "metadata": {},
     "output_type": "execute_result"
    }
   ],
   "source": [
    "comedy_of_errors_lt5 = generate_classification_dataset(comedy_of_errors, test_fns['< 5 words'])\n",
    "comedy_of_errors_lt8 = generate_classification_dataset(comedy_of_errors, test_fns['< 8 words'])\n",
    "comedy_of_errors_lt8"
   ]
  },
  {
   "cell_type": "code",
   "execution_count": 9,
   "id": "fc02bf43",
   "metadata": {},
   "outputs": [],
   "source": [
    "# Load the files, if we've run this before, else calculate & save\n",
    "\n",
    "stem = 'lt8_classification_results'\n",
    "dataset = comedy_of_errors_lt8\n",
    "\n",
    "if glob.glob(f'data/{stem}*feather'):\n",
    "    lt8_classification_results = load_dict_of_dfs_with_df_elements(\n",
    "        filename_stem=stem,\n",
    "        models_to_load=['gpt-4']\n",
    "    )\n",
    "else:\n",
    "    lt8_classification_results = run_gpt_classification(\n",
    "        dataset,\n",
    "        max_num_examples=100,\n",
    "    )\n",
    "    save_dict_of_dfs_with_df_elements(\n",
    "        lt8_classification_results,\n",
    "        stem\n",
    "    )"
   ]
  },
  {
   "cell_type": "code",
   "execution_count": 10,
   "id": "959fba32",
   "metadata": {},
   "outputs": [],
   "source": [
    "# Load the files, if we've run this before, else calculate & save\n",
    "\n",
    "stem = 'lt5_classification_results'\n",
    "dataset = comedy_of_errors_lt5\n",
    "\n",
    "if glob.glob(f'data/{stem}*feather'):\n",
    "    lt5_classification_results = load_dict_of_dfs_with_df_elements(\n",
    "        filename_stem=stem,\n",
    "        models_to_load=['gpt-4']\n",
    "    )\n",
    "else:\n",
    "    lt5_classification_results = run_gpt_classification(\n",
    "        dataset,\n",
    "        max_num_examples=100,\n",
    "    )\n",
    "    save_dict_of_dfs_with_df_elements(\n",
    "        lt5_classification_results,\n",
    "        stem\n",
    "    )"
   ]
  },
  {
   "cell_type": "code",
   "execution_count": 11,
   "id": "5f7ab181",
   "metadata": {},
   "outputs": [],
   "source": [
    "classification_results['< 5 words'] = lt5_classification_results['gpt-4']\n",
    "classification_results['< 8 words'] = lt8_classification_results['gpt-4']"
   ]
  },
  {
   "cell_type": "code",
   "execution_count": 31,
   "id": "44b3ef7f",
   "metadata": {},
   "outputs": [
    {
     "data": {
      "text/plain": [
       "<matplotlib.lines.Line2D at 0x12a67be50>"
      ]
     },
     "execution_count": 31,
     "metadata": {},
     "output_type": "execute_result"
    },
    {
     "data": {
      "image/png": "[encoded data removed]",
      "text/plain": [
       "<Figure size 432x288 with 1 Axes>"
      ]
     },
     "metadata": {
      "needs_background": "light"
     },
     "output_type": "display_data"
    }
   ],
   "source": [
    "for test, df in classification_results.items():\n",
    "    sns.scatterplot(data=df, x='num_examples', y='success', label=test)\n",
    "plt.ylim(-0.1, 1.1)\n",
    "plt.axhline(0, linestyle=':')\n",
    "plt.axhline(0.9, linestyle=':')\n",
    "plt.axhline(1, linestyle=':')"
   ]
  },
  {
   "cell_type": "markdown",
   "id": "c9e2ec04",
   "metadata": {},
   "source": [
    "## What does GPT-4 say about the classification rule it's using?"
   ]
  },
  {
   "cell_type": "markdown",
   "id": "65940ece",
   "metadata": {},
   "source": [
    "### < 5 words"
   ]
  },
  {
   "cell_type": "code",
   "execution_count": 13,
   "id": "8cb3ccdb",
   "metadata": {},
   "outputs": [
    {
     "name": "stdout",
     "output_type": "stream",
     "text": [
      "=== 20 ===\n",
      "The classification rule seems to be that sentences or phrases which are incomplete or do not form a cohesive thought are labeled as \"True\", while complete sentences or phrases forming a complete thought are labeled as \"False\".\n",
      "=== 35 ===\n",
      "The classification rule seems to be that shorter phrases, particularly one or two words or those forming a question are labeled as 'True', while longer sentences or those forming a statement are labeled as 'False'.\n",
      "=== 40 ===\n",
      "The classification rule seems to be labelling short phrases or one-word sentences as \"True\", while longer sentences or more complex structures are labelled as \"False\".\n",
      "=== 80 ===\n",
      "The classification rule seems to be based on the length of the statements. Statements with less than 5 words including punctuation are labeled as \"True\" while those with 5 words or more are labeled as \"False\".\n",
      "=== 100 ===\n",
      "The classification rule is: If the statement is a question or a one-word phrase, it is labeled as true, and if the statement is a declarative sentence or a longer phrase, it is labeled as false.\n"
     ]
    }
   ],
   "source": [
    "for num_examples in [20, 35, 40, 80, 100]:\n",
    "    print('===', num_examples, '===')\n",
    "    print(gpt_explain_reasoning(\n",
    "        comedy_of_errors_lt5.sample(n=num_examples, random_state=42)\n",
    "    ))"
   ]
  },
  {
   "cell_type": "markdown",
   "id": "715653ef",
   "metadata": {},
   "source": [
    "### < 8 words"
   ]
  },
  {
   "cell_type": "code",
   "execution_count": 14,
   "id": "8e0d0199",
   "metadata": {},
   "outputs": [
    {
     "name": "stdout",
     "output_type": "stream",
     "text": [
      "=== 20 ===\n",
      "The classification rule seems to be: statements which do not contain a question or a targeted demand/address towards someone are labeled as 'True', while those containing a question or a direct request/order toward someone are labeled as 'False'.\n",
      "=== 35 ===\n",
      "The classification rule could be that sentences with terms of address such as 'Master' or sentences that depict a direct speech or conversation are labeled as 'True'. Statements that depict general observations, requests, reflections or are part of a narrative are labeled as 'False'.\n",
      "=== 40 ===\n",
      "The classification rule seems to be that sentences with more complex concepts or propositions are labelled as false, while simpler and straightforward sentences are labelled as true. The 'true' statements are also more direct, while the 'false' ones involve more dependent clauses and indirect propositions.\n",
      "=== 80 ===\n",
      "The classification rule appears to be based on whether the statement is a question or not. Statements labelled as \"True\" are not in the form of a question while statements labelled as \"False\" are typically questions or sentences with a more complex structure.\n",
      "=== 100 ===\n",
      "The classification rule is focused on the grammatical correctness and coherence of the statement. Statements that are grammatically correct and make logical sense are labelled as \"True\", while statements that are grammatically incorrect, incomplete, or do not make sense are labelled as \"False\".\n"
     ]
    }
   ],
   "source": [
    "for num_examples in [20, 35, 40, 80, 100]:\n",
    "    print('===', num_examples, '===')\n",
    "    print(gpt_explain_reasoning(\n",
    "        comedy_of_errors_lt8.sample(n=num_examples, random_state=42)\n",
    "    ))"
   ]
  },
  {
   "cell_type": "markdown",
   "id": "e88d69bf",
   "metadata": {},
   "source": [
    "### < 5 words, with hints"
   ]
  },
  {
   "cell_type": "code",
   "execution_count": 15,
   "id": "d0ff3c03",
   "metadata": {},
   "outputs": [
    {
     "name": "stdout",
     "output_type": "stream",
     "text": [
      "=== 20 ===\n",
      "The classification rule is based on the number of words in a statement. Statements with three words or less are labeled as True, whereas statements with four words or more are labeled as False.\n",
      "=== 35 ===\n",
      "The classification rule is based on the number of words in each sentence. If a sentence has 4 or fewer words, it is labelled as 'True'. If a sentence has more than 4 words, it is labelled as 'False'.\n",
      "=== 40 ===\n",
      "The classification rule is based on the number of words in each statement. If the statement contains 3 words or less it is labeled as True. If it contains more than 3 words, it is labeled as False.\n",
      "=== 80 ===\n",
      "The classification rule is based on the number of words in a statement. If a statement has 4 words or less, it's labeled as True, if it has more than 4 words, it's labeled as False.\n",
      "=== 100 ===\n",
      "The classification rule is based on the number of words in the sentence. If a sentence contains 3 words or less, it is classified as \"True\". If a sentence contains more than 3 words, it is classified as \"False\".\n"
     ]
    }
   ],
   "source": [
    "for num_examples in [20, 35, 40, 80, 100]:\n",
    "    print('===', num_examples, '===')\n",
    "    print(gpt_explain_reasoning(\n",
    "        comedy_of_errors_lt5.sample(n=num_examples),\n",
    "        system_prompt=(\n",
    "            \"You are given some statements, which are labelled with categories. \"\n",
    "            \"Describe the classification rule.\"\n",
    "            \"(Hint: consider the number of words)\"\n",
    "        )\n",
    "    ))"
   ]
  },
  {
   "cell_type": "markdown",
   "id": "c8b3b911",
   "metadata": {},
   "source": [
    "### < 8 words, with hints"
   ]
  },
  {
   "cell_type": "code",
   "execution_count": 16,
   "id": "af53bb60",
   "metadata": {},
   "outputs": [
    {
     "name": "stdout",
     "output_type": "stream",
     "text": [
      "=== 20 ===\n",
      "The classification rule appears to be based on the number of words in each statement. Statements with seven or fewer words are labeled as 'True', while statements with more than seven words are labeled as 'False'.\n",
      "=== 35 ===\n",
      "The classification rule is: If a statement has 7 or less words, it's labeled as \"True\". If it has more than 7 words, it is labeled as \"False\".\n",
      "=== 40 ===\n",
      "The classification rule is based on the number of words in each statement. Statements with five or less words are labelled as \"True\", while statements with more than five words are labelled as \"False\".\n",
      "=== 80 ===\n",
      "Sentences labelled as \"True\" have 6 or fewer words, while sentences labelled as \"False\" have more than 6 words.\n",
      "=== 100 ===\n",
      "The classification rule is based on the number of words in each sentence. Statements with 7 words or less are labelled 'True' whereas statements with more than 7 words are labelled 'False'.\n"
     ]
    }
   ],
   "source": [
    "for num_examples in [20, 35, 40, 80, 100]:\n",
    "    print('===', num_examples, '===')\n",
    "    print(gpt_explain_reasoning(\n",
    "        comedy_of_errors_lt8.sample(n=num_examples),\n",
    "        system_prompt=(\n",
    "            \"You are given some statements, which are labelled with categories. \"\n",
    "            \"Describe the classification rule.\"\n",
    "            \"(Hint: consider the number of words)\"\n",
    "        )\n",
    "    ))"
   ]
  },
  {
   "cell_type": "markdown",
   "id": "6b6f2bf4",
   "metadata": {},
   "source": [
    "# Now do odd#"
   ]
  },
  {
   "cell_type": "code",
   "execution_count": 17,
   "id": "d8f838c2",
   "metadata": {},
   "outputs": [
    {
     "data": {
      "text/html": [
       "<div>\n",
       "<style scoped>\n",
       "    .dataframe tbody tr th:only-of-type {\n",
       "        vertical-align: middle;\n",
       "    }\n",
       "\n",
       "    .dataframe tbody tr th {\n",
       "        vertical-align: top;\n",
       "    }\n",
       "\n",
       "    .dataframe thead th {\n",
       "        text-align: right;\n",
       "    }\n",
       "</style>\n",
       "<table border=\"1\" class=\"dataframe\">\n",
       "  <thead>\n",
       "    <tr style=\"text-align: right;\">\n",
       "      <th></th>\n",
       "      <th>text</th>\n",
       "      <th>label</th>\n",
       "    </tr>\n",
       "  </thead>\n",
       "  <tbody>\n",
       "    <tr>\n",
       "      <th>887</th>\n",
       "      <td>A very reverend body, ay, such a</td>\n",
       "      <td>True</td>\n",
       "    </tr>\n",
       "    <tr>\n",
       "      <th>1256</th>\n",
       "      <td>Avoid then, fiend! What tell’st thou me of sup...</td>\n",
       "      <td>True</td>\n",
       "    </tr>\n",
       "    <tr>\n",
       "      <th>447</th>\n",
       "      <td>that I have.</td>\n",
       "      <td>True</td>\n",
       "    </tr>\n",
       "    <tr>\n",
       "      <th>1162</th>\n",
       "      <td>tell.</td>\n",
       "      <td>True</td>\n",
       "    </tr>\n",
       "    <tr>\n",
       "      <th>346</th>\n",
       "      <td>Go back again and be new beaten home?</td>\n",
       "      <td>False</td>\n",
       "    </tr>\n",
       "    <tr>\n",
       "      <th>...</th>\n",
       "      <td>...</td>\n",
       "      <td>...</td>\n",
       "    </tr>\n",
       "    <tr>\n",
       "      <th>1744</th>\n",
       "      <td>Saw’st thou him enter at the abbey here?</td>\n",
       "      <td>False</td>\n",
       "    </tr>\n",
       "    <tr>\n",
       "      <th>377</th>\n",
       "      <td>Would that alone o’ love he would detain,</td>\n",
       "      <td>False</td>\n",
       "    </tr>\n",
       "    <tr>\n",
       "      <th>181</th>\n",
       "      <td>I am invited, sir, to certain merchants,</td>\n",
       "      <td>True</td>\n",
       "    </tr>\n",
       "    <tr>\n",
       "      <th>1590</th>\n",
       "      <td>Yet once again proclaim it publicly,</td>\n",
       "      <td>False</td>\n",
       "    </tr>\n",
       "    <tr>\n",
       "      <th>766</th>\n",
       "      <td>Now in the stirring passage of the day,</td>\n",
       "      <td>False</td>\n",
       "    </tr>\n",
       "  </tbody>\n",
       "</table>\n",
       "<p>1756 rows × 2 columns</p>\n",
       "</div>"
      ],
      "text/plain": [
       "                                                   text  label\n",
       "887                    A very reverend body, ay, such a   True\n",
       "1256  Avoid then, fiend! What tell’st thou me of sup...   True\n",
       "447                                        that I have.   True\n",
       "1162                                              tell.   True\n",
       "346               Go back again and be new beaten home?  False\n",
       "...                                                 ...    ...\n",
       "1744           Saw’st thou him enter at the abbey here?  False\n",
       "377           Would that alone o’ love he would detain,  False\n",
       "181            I am invited, sir, to certain merchants,   True\n",
       "1590               Yet once again proclaim it publicly,  False\n",
       "766             Now in the stirring passage of the day,  False\n",
       "\n",
       "[1756 rows x 2 columns]"
      ]
     },
     "execution_count": 17,
     "metadata": {},
     "output_type": "execute_result"
    }
   ],
   "source": [
    "comedy_of_errors_odd = generate_classification_dataset(comedy_of_errors, test_fns['odd #words'])\n",
    "comedy_of_errors_odd"
   ]
  },
  {
   "cell_type": "code",
   "execution_count": 18,
   "id": "bb54e976",
   "metadata": {},
   "outputs": [
    {
     "name": "stdout",
     "output_type": "stream",
     "text": [
      "Classifying using: gpt-4\n"
     ]
    },
    {
     "data": {
      "application/vnd.jupyter.widget-view+json": {
       "model_id": "dd8d50a83ac641d39c398f7978be91ef",
       "version_major": 2,
       "version_minor": 0
      },
      "text/plain": [
       "  0%|          | 0/20 [00:00<?, ?it/s]"
      ]
     },
     "metadata": {},
     "output_type": "display_data"
    },
    {
     "data": {
      "application/vnd.jupyter.widget-view+json": {
       "model_id": "",
       "version_major": 2,
       "version_minor": 0
      },
      "text/plain": [
       "  0%|          | 0/20 [00:00<?, ?it/s]"
      ]
     },
     "metadata": {},
     "output_type": "display_data"
    },
    {
     "data": {
      "application/vnd.jupyter.widget-view+json": {
       "model_id": "",
       "version_major": 2,
       "version_minor": 0
      },
      "text/plain": [
       "  0%|          | 0/20 [00:00<?, ?it/s]"
      ]
     },
     "metadata": {},
     "output_type": "display_data"
    },
    {
     "data": {
      "application/vnd.jupyter.widget-view+json": {
       "model_id": "",
       "version_major": 2,
       "version_minor": 0
      },
      "text/plain": [
       "  0%|          | 0/20 [00:00<?, ?it/s]"
      ]
     },
     "metadata": {},
     "output_type": "display_data"
    },
    {
     "data": {
      "application/vnd.jupyter.widget-view+json": {
       "model_id": "",
       "version_major": 2,
       "version_minor": 0
      },
      "text/plain": [
       "  0%|          | 0/20 [00:00<?, ?it/s]"
      ]
     },
     "metadata": {},
     "output_type": "display_data"
    },
    {
     "data": {
      "application/vnd.jupyter.widget-view+json": {
       "model_id": "",
       "version_major": 2,
       "version_minor": 0
      },
      "text/plain": [
       "  0%|          | 0/20 [00:00<?, ?it/s]"
      ]
     },
     "metadata": {},
     "output_type": "display_data"
    },
    {
     "data": {
      "application/vnd.jupyter.widget-view+json": {
       "model_id": "",
       "version_major": 2,
       "version_minor": 0
      },
      "text/plain": [
       "  0%|          | 0/20 [00:00<?, ?it/s]"
      ]
     },
     "metadata": {},
     "output_type": "display_data"
    },
    {
     "data": {
      "application/vnd.jupyter.widget-view+json": {
       "model_id": "",
       "version_major": 2,
       "version_minor": 0
      },
      "text/plain": [
       "  0%|          | 0/20 [00:00<?, ?it/s]"
      ]
     },
     "metadata": {},
     "output_type": "display_data"
    },
    {
     "data": {
      "application/vnd.jupyter.widget-view+json": {
       "model_id": "",
       "version_major": 2,
       "version_minor": 0
      },
      "text/plain": [
       "  0%|          | 0/20 [00:00<?, ?it/s]"
      ]
     },
     "metadata": {},
     "output_type": "display_data"
    },
    {
     "data": {
      "application/vnd.jupyter.widget-view+json": {
       "model_id": "",
       "version_major": 2,
       "version_minor": 0
      },
      "text/plain": [
       "  0%|          | 0/20 [00:00<?, ?it/s]"
      ]
     },
     "metadata": {},
     "output_type": "display_data"
    },
    {
     "data": {
      "application/vnd.jupyter.widget-view+json": {
       "model_id": "",
       "version_major": 2,
       "version_minor": 0
      },
      "text/plain": [
       "  0%|          | 0/20 [00:00<?, ?it/s]"
      ]
     },
     "metadata": {},
     "output_type": "display_data"
    },
    {
     "data": {
      "application/vnd.jupyter.widget-view+json": {
       "model_id": "",
       "version_major": 2,
       "version_minor": 0
      },
      "text/plain": [
       "  0%|          | 0/20 [00:00<?, ?it/s]"
      ]
     },
     "metadata": {},
     "output_type": "display_data"
    },
    {
     "data": {
      "application/vnd.jupyter.widget-view+json": {
       "model_id": "",
       "version_major": 2,
       "version_minor": 0
      },
      "text/plain": [
       "  0%|          | 0/20 [00:00<?, ?it/s]"
      ]
     },
     "metadata": {},
     "output_type": "display_data"
    },
    {
     "data": {
      "application/vnd.jupyter.widget-view+json": {
       "model_id": "",
       "version_major": 2,
       "version_minor": 0
      },
      "text/plain": [
       "  0%|          | 0/20 [00:00<?, ?it/s]"
      ]
     },
     "metadata": {},
     "output_type": "display_data"
    },
    {
     "data": {
      "application/vnd.jupyter.widget-view+json": {
       "model_id": "",
       "version_major": 2,
       "version_minor": 0
      },
      "text/plain": [
       "  0%|          | 0/20 [00:00<?, ?it/s]"
      ]
     },
     "metadata": {},
     "output_type": "display_data"
    },
    {
     "data": {
      "application/vnd.jupyter.widget-view+json": {
       "model_id": "",
       "version_major": 2,
       "version_minor": 0
      },
      "text/plain": [
       "  0%|          | 0/20 [00:00<?, ?it/s]"
      ]
     },
     "metadata": {},
     "output_type": "display_data"
    },
    {
     "data": {
      "application/vnd.jupyter.widget-view+json": {
       "model_id": "",
       "version_major": 2,
       "version_minor": 0
      },
      "text/plain": [
       "  0%|          | 0/20 [00:00<?, ?it/s]"
      ]
     },
     "metadata": {},
     "output_type": "display_data"
    },
    {
     "data": {
      "application/vnd.jupyter.widget-view+json": {
       "model_id": "",
       "version_major": 2,
       "version_minor": 0
      },
      "text/plain": [
       "  0%|          | 0/20 [00:00<?, ?it/s]"
      ]
     },
     "metadata": {},
     "output_type": "display_data"
    },
    {
     "data": {
      "application/vnd.jupyter.widget-view+json": {
       "model_id": "",
       "version_major": 2,
       "version_minor": 0
      },
      "text/plain": [
       "  0%|          | 0/20 [00:00<?, ?it/s]"
      ]
     },
     "metadata": {},
     "output_type": "display_data"
    },
    {
     "data": {
      "application/vnd.jupyter.widget-view+json": {
       "model_id": "",
       "version_major": 2,
       "version_minor": 0
      },
      "text/plain": [
       "  0%|          | 0/20 [00:00<?, ?it/s]"
      ]
     },
     "metadata": {},
     "output_type": "display_data"
    },
    {
     "data": {
      "application/vnd.jupyter.widget-view+json": {
       "model_id": "",
       "version_major": 2,
       "version_minor": 0
      },
      "text/plain": [
       "  0%|          | 0/20 [00:00<?, ?it/s]"
      ]
     },
     "metadata": {},
     "output_type": "display_data"
    }
   ],
   "source": [
    "stem = 'oddnum_classification_results'\n",
    "dataset = comedy_of_errors_odd\n",
    "\n",
    "if glob.glob(f'data/{stem}*feather'):\n",
    "    oddnum_classification_results = load_dict_of_dfs_with_df_elements(\n",
    "        filename_stem=stem,\n",
    "        models_to_load=['gpt-4']\n",
    "    )\n",
    "else:\n",
    "    oddnum_classification_results = run_gpt_classification(\n",
    "        dataset,\n",
    "        max_num_examples=100,\n",
    "    )\n",
    "    save_dict_of_dfs_with_df_elements(\n",
    "        oddnum_classification_results,\n",
    "        stem\n",
    "    )"
   ]
  },
  {
   "cell_type": "code",
   "execution_count": 30,
   "id": "a082ca8a",
   "metadata": {},
   "outputs": [
    {
     "data": {
      "image/png": "[encoded data removed]",
      "text/plain": [
       "<Figure size 432x288 with 1 Axes>"
      ]
     },
     "metadata": {
      "needs_background": "light"
     },
     "output_type": "display_data"
    }
   ],
   "source": [
    "for test, df in classification_results.items():\n",
    "    sns.scatterplot(data=df, x='num_examples', y='success', label=test)\n",
    "\n",
    "sns.scatterplot(data=oddnum_classification_results['gpt-4'], x='num_examples', y='success', label='odd')\n",
    "plt.ylim(-0.1, 1.1)\n",
    "plt.axhline(0, linestyle=':')\n",
    "plt.axhline(0.5, linestyle=':')\n",
    "plt.axhline(0.9, linestyle=':')\n",
    "plt.axhline(1, linestyle=':')\n",
    "plt.savefig('report/images/wordcount-classification.png')"
   ]
  },
  {
   "cell_type": "code",
   "execution_count": 23,
   "id": "5c60ce12",
   "metadata": {},
   "outputs": [
    {
     "name": "stdout",
     "output_type": "stream",
     "text": [
      "=== 20 ===\n",
      "The classification rule is based on the number of words in each statement. Statements with 9 words are classified as \"True\", while statements with any other number of words are classified as \"False\".\n",
      "=== 35 ===\n",
      "The classification rule is: statements with odd number of words are labeled \"True\", whereas statements with even number of words are labeled \"False\".\n",
      "=== 40 ===\n",
      "The classification rule is based on the number of words in each statement. If a statement has 6 words or more, it is labeled as 'True'. If it has less than 6 words, it is labeled as 'False'.\n",
      "=== 80 ===\n",
      "The classification rule is based on the number of words in a statement. Statements with 8 or fewer words are labeled as 'True', while statements with more than 8 words are labeled as 'False'.\n",
      "=== 100 ===\n",
      "The classification rule is based on the number of words in each sentence. Sentences with 10 or fewer words are labelled as 'True', while sentences with more than 10 words are labelled as 'False'.\n"
     ]
    }
   ],
   "source": [
    "for num_examples in [20, 35, 40, 80, 100]:\n",
    "    print('===', num_examples, '===')\n",
    "    print(gpt_explain_reasoning(\n",
    "        comedy_of_errors_odd.sample(n=num_examples),\n",
    "        system_prompt=(\n",
    "            \"You are given some statements, which are labelled with categories. \"\n",
    "            \"Describe the classification rule.\"\n",
    "            \"(Hint: consider the number of words)\"\n",
    "        )\n",
    "    ))"
   ]
  },
  {
   "cell_type": "code",
   "execution_count": null,
   "id": "67597f46",
   "metadata": {},
   "outputs": [],
   "source": []
  }
 ],
 "metadata": {
  "kernelspec": {
   "display_name": "Python 3 (ipykernel)",
   "language": "python",
   "name": "python3"
  },
  "language_info": {
   "codemirror_mode": {
    "name": "ipython",
    "version": 3
   },
   "file_extension": ".py",
   "mimetype": "text/x-python",
   "name": "python",
   "nbconvert_exporter": "python",
   "pygments_lexer": "ipython3",
   "version": "3.10.5"
  }
 },
 "nbformat": 4,
 "nbformat_minor": 5
}
