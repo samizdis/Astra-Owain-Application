{
 "cells": [
  {
   "cell_type": "code",
   "execution_count": 1,
   "id": "9eb805b9",
   "metadata": {},
   "outputs": [],
   "source": [
    "%load_ext autoreload\n",
    "%autoreload 2"
   ]
  },
  {
   "cell_type": "code",
   "execution_count": 2,
   "id": "875fd56d",
   "metadata": {},
   "outputs": [],
   "source": [
    "from typing import List\n",
    "import random\n",
    "import math\n",
    "import glob\n",
    "\n",
    "from tqdm.auto import tqdm\n",
    "\n",
    "import numpy as np\n",
    "import pandas as pd\n",
    "from sklearn.model_selection import train_test_split\n",
    "\n",
    "import matplotlib.pyplot as plt\n",
    "import seaborn as sns\n",
    "\n",
    "from utils import query_OAI_with_retries, save_dict_of_dfs_with_df_elements, load_dict_of_dfs_with_df_elements\n",
    "from gpt_classification import (\n",
    "    gpt_classify,\n",
    "    consecutive_classify,\n",
    "    run_gpt_classification,\n",
    "    gpt_explain_reasoning,\n",
    "    gpt_classify_using_rule,\n",
    "    consecutive_classify_using_rule,\n",
    ")\n",
    "from data_functions import balanced_dataset\n",
    "from shakespeare import comedy_of_errors"
   ]
  },
  {
   "cell_type": "markdown",
   "id": "a8bc0780",
   "metadata": {},
   "source": [
    "# Initial exploration of the example classification task"
   ]
  },
  {
   "cell_type": "code",
   "execution_count": 3,
   "id": "818a45ed",
   "metadata": {},
   "outputs": [
    {
     "name": "stdout",
     "output_type": "stream",
     "text": [
      "                      text  label\n",
      "0   the cat sat on the mat   True\n",
      "1  THE DOG RAN IN THE PARK  False\n",
      "2   THE mat sat on the cat  False\n",
      "3        the house is cold   True\n"
     ]
    }
   ],
   "source": [
    "labelled_examples = pd.DataFrame([\n",
    "    (s.split('\"')[1], s.split('Label: ')[1])\n",
    "    for s in\n",
    "\"\"\"\n",
    "Input: \"the cat sat on the mat\" Label: True\n",
    "Input: \"THE DOG RAN IN THE PARK\" Label: False\n",
    "Input: \"THE mat sat on the cat\" Label: False\n",
    "Input: \"the house is cold\" Label: True\n",
    "\"\"\".split('\\n')\n",
    "    if s\n",
    "],\n",
    "    columns=['text', 'label']\n",
    ")\n",
    "\n",
    "print(labelled_examples)"
   ]
  },
  {
   "cell_type": "code",
   "execution_count": 4,
   "id": "f8e04802",
   "metadata": {},
   "outputs": [
    {
     "name": "stdout",
     "output_type": "stream",
     "text": [
      "something like this\n",
      "True\n",
      "the fox jumped over the bench\n",
      "True\n",
      "the Fox jumped over the bench\n",
      "True\n",
      "THE FOX JUMPED OVER THE BENCH\n",
      "True\n",
      "The Fox Jumped Over The Bench\n",
      "False\n"
     ]
    }
   ],
   "source": [
    "for test in [\n",
    "    'something like this',\n",
    "    'the fox jumped over the bench',\n",
    "    'the Fox jumped over the bench',\n",
    "    'the Fox jumped over the bench'.upper(),\n",
    "    'the Fox jumped over the bench'.title(),\n",
    "]:\n",
    "    print(test)\n",
    "    print(gpt_classify(labelled_examples, test))"
   ]
  },
  {
   "cell_type": "markdown",
   "id": "d356c462",
   "metadata": {},
   "source": [
    "### Looks like it's just guessing, probably it needs more than 4 examples :p"
   ]
  },
  {
   "cell_type": "markdown",
   "id": "56452111",
   "metadata": {},
   "source": [
    "# Create a dataset with mixed-case and lower-case"
   ]
  },
  {
   "cell_type": "markdown",
   "id": "47c20c8b",
   "metadata": {},
   "source": [
    "Grab some text from the internet, and split by islower.\n",
    "Could instead generate sentences.\n",
    "\n",
    "(Spoiler: Turns out that shorter sentences are more likely to be islower, so later we'll do this differently.)"
   ]
  },
  {
   "cell_type": "code",
   "execution_count": 5,
   "id": "071c9ba6",
   "metadata": {},
   "outputs": [],
   "source": [
    "def is_lowercase(s: str):\n",
    "    return s.islower()"
   ]
  },
  {
   "cell_type": "code",
   "execution_count": 6,
   "id": "d84c5ad0",
   "metadata": {},
   "outputs": [
    {
     "data": {
      "text/html": [
       "<div>\n",
       "<style scoped>\n",
       "    .dataframe tbody tr th:only-of-type {\n",
       "        vertical-align: middle;\n",
       "    }\n",
       "\n",
       "    .dataframe tbody tr th {\n",
       "        vertical-align: top;\n",
       "    }\n",
       "\n",
       "    .dataframe thead th {\n",
       "        text-align: right;\n",
       "    }\n",
       "</style>\n",
       "<table border=\"1\" class=\"dataframe\">\n",
       "  <thead>\n",
       "    <tr style=\"text-align: right;\">\n",
       "      <th></th>\n",
       "      <th>text</th>\n",
       "      <th>label</th>\n",
       "    </tr>\n",
       "  </thead>\n",
       "  <tbody>\n",
       "    <tr>\n",
       "      <th>0</th>\n",
       "      <td></td>\n",
       "      <td>False</td>\n",
       "    </tr>\n",
       "    <tr>\n",
       "      <th>1</th>\n",
       "      <td>Proceed, Solinus, to procure my fall,</td>\n",
       "      <td>False</td>\n",
       "    </tr>\n",
       "    <tr>\n",
       "      <th>2</th>\n",
       "      <td>And by the doom of death end woes and all.</td>\n",
       "      <td>False</td>\n",
       "    </tr>\n",
       "    <tr>\n",
       "      <th>3</th>\n",
       "      <td>Merchant of Syracusa, plead no more.</td>\n",
       "      <td>False</td>\n",
       "    </tr>\n",
       "    <tr>\n",
       "      <th>4</th>\n",
       "      <td>I am not partial to infringe our laws.</td>\n",
       "      <td>False</td>\n",
       "    </tr>\n",
       "    <tr>\n",
       "      <th>...</th>\n",
       "      <td>...</td>\n",
       "      <td>...</td>\n",
       "    </tr>\n",
       "    <tr>\n",
       "      <th>1894</th>\n",
       "      <td>Till then, lead thou first.</td>\n",
       "      <td>False</td>\n",
       "    </tr>\n",
       "    <tr>\n",
       "      <th>1895</th>\n",
       "      <td>Nay, then, thus:</td>\n",
       "      <td>False</td>\n",
       "    </tr>\n",
       "    <tr>\n",
       "      <th>1896</th>\n",
       "      <td>We came into the world like brother and brother,</td>\n",
       "      <td>False</td>\n",
       "    </tr>\n",
       "    <tr>\n",
       "      <th>1897</th>\n",
       "      <td>And now let’s go hand in hand, not one before</td>\n",
       "      <td>False</td>\n",
       "    </tr>\n",
       "    <tr>\n",
       "      <th>1898</th>\n",
       "      <td>another.</td>\n",
       "      <td>True</td>\n",
       "    </tr>\n",
       "  </tbody>\n",
       "</table>\n",
       "<p>1899 rows × 2 columns</p>\n",
       "</div>"
      ],
      "text/plain": [
       "                                                  text  label\n",
       "0                                                       False\n",
       "1                Proceed, Solinus, to procure my fall,  False\n",
       "2           And by the doom of death end woes and all.  False\n",
       "3                 Merchant of Syracusa, plead no more.  False\n",
       "4               I am not partial to infringe our laws.  False\n",
       "...                                                ...    ...\n",
       "1894                       Till then, lead thou first.  False\n",
       "1895                                  Nay, then, thus:  False\n",
       "1896  We came into the world like brother and brother,  False\n",
       "1897     And now let’s go hand in hand, not one before  False\n",
       "1898                                          another.   True\n",
       "\n",
       "[1899 rows x 2 columns]"
      ]
     },
     "execution_count": 6,
     "metadata": {},
     "output_type": "execute_result"
    }
   ],
   "source": [
    "lines = pd.DataFrame(comedy_of_errors, columns=['text'])\n",
    "lines['label'] = lines['text'].apply(is_lowercase)\n",
    "lines"
   ]
  },
  {
   "cell_type": "code",
   "execution_count": 7,
   "id": "b7c918fe",
   "metadata": {},
   "outputs": [
    {
     "data": {
      "text/html": [
       "<div>\n",
       "<style scoped>\n",
       "    .dataframe tbody tr th:only-of-type {\n",
       "        vertical-align: middle;\n",
       "    }\n",
       "\n",
       "    .dataframe tbody tr th {\n",
       "        vertical-align: top;\n",
       "    }\n",
       "\n",
       "    .dataframe thead th {\n",
       "        text-align: right;\n",
       "    }\n",
       "</style>\n",
       "<table border=\"1\" class=\"dataframe\">\n",
       "  <thead>\n",
       "    <tr style=\"text-align: right;\">\n",
       "      <th></th>\n",
       "      <th>text</th>\n",
       "      <th>label</th>\n",
       "    </tr>\n",
       "  </thead>\n",
       "  <tbody>\n",
       "    <tr>\n",
       "      <th>668</th>\n",
       "      <td>door.</td>\n",
       "      <td>True</td>\n",
       "    </tr>\n",
       "    <tr>\n",
       "      <th>1163</th>\n",
       "      <td>tell.</td>\n",
       "      <td>True</td>\n",
       "    </tr>\n",
       "    <tr>\n",
       "      <th>446</th>\n",
       "      <td>dinnertime?</td>\n",
       "      <td>True</td>\n",
       "    </tr>\n",
       "    <tr>\n",
       "      <th>1448</th>\n",
       "      <td>Come to the Centaur. Fetch our stuff from thence.</td>\n",
       "      <td>False</td>\n",
       "    </tr>\n",
       "    <tr>\n",
       "      <th>798</th>\n",
       "      <td>kindness.</td>\n",
       "      <td>True</td>\n",
       "    </tr>\n",
       "    <tr>\n",
       "      <th>...</th>\n",
       "      <td>...</td>\n",
       "      <td>...</td>\n",
       "    </tr>\n",
       "    <tr>\n",
       "      <th>320</th>\n",
       "      <td>too well feel his blows, and withal so doubtfully</td>\n",
       "      <td>True</td>\n",
       "    </tr>\n",
       "    <tr>\n",
       "      <th>1214</th>\n",
       "      <td>man, sir, that, when gentlemen are tired, gives</td>\n",
       "      <td>True</td>\n",
       "    </tr>\n",
       "    <tr>\n",
       "      <th>1756</th>\n",
       "      <td>But he, I thank him, gnawed in two my cords.</td>\n",
       "      <td>False</td>\n",
       "    </tr>\n",
       "    <tr>\n",
       "      <th>1708</th>\n",
       "      <td>And, gazing in mine eyes, feeling my pulse,</td>\n",
       "      <td>False</td>\n",
       "    </tr>\n",
       "    <tr>\n",
       "      <th>1741</th>\n",
       "      <td>what say you?</td>\n",
       "      <td>True</td>\n",
       "    </tr>\n",
       "  </tbody>\n",
       "</table>\n",
       "<p>362 rows × 2 columns</p>\n",
       "</div>"
      ],
      "text/plain": [
       "                                                   text  label\n",
       "668                                               door.   True\n",
       "1163                                              tell.   True\n",
       "446                                         dinnertime?   True\n",
       "1448  Come to the Centaur. Fetch our stuff from thence.  False\n",
       "798                                           kindness.   True\n",
       "...                                                 ...    ...\n",
       "320   too well feel his blows, and withal so doubtfully   True\n",
       "1214    man, sir, that, when gentlemen are tired, gives   True\n",
       "1756       But he, I thank him, gnawed in two my cords.  False\n",
       "1708        And, gazing in mine eyes, feeling my pulse,  False\n",
       "1741                                      what say you?   True\n",
       "\n",
       "[362 rows x 2 columns]"
      ]
     },
     "execution_count": 7,
     "metadata": {},
     "output_type": "execute_result"
    }
   ],
   "source": [
    "balanced_dataset(lines, is_lowercase)"
   ]
  },
  {
   "cell_type": "code",
   "execution_count": 8,
   "id": "b6c6f521",
   "metadata": {},
   "outputs": [],
   "source": [
    "# Load the files, if we've run this before, else calculate & save\n",
    "\n",
    "stem = 'balanced_lines_classification_results'\n",
    "\n",
    "if glob.glob(f'data/{stem}*feather'):\n",
    "    balanced_lines_classification_results = load_dict_of_dfs_with_df_elements(\n",
    "        filename_stem=stem,\n",
    "        models_to_load=['gpt-3.5-turbo', 'gpt-4']\n",
    "    )\n",
    "else:\n",
    "    balanced_lines_classification_results = run_gpt_classification(\n",
    "        balanced_dataset(lines, is_lowercase),\n",
    "        models_to_run=['gpt-3.5-turbo', 'gpt-4']\n",
    "    )\n",
    "    save_dict_of_dfs_with_df_elements(\n",
    "        balanced_lines_classification_results,\n",
    "        stem\n",
    "    )"
   ]
  },
  {
   "cell_type": "code",
   "execution_count": 33,
   "id": "9529f663",
   "metadata": {},
   "outputs": [
    {
     "data": {
      "image/png": "[encoded data removed]",
      "text/plain": [
       "<Figure size 432x288 with 1 Axes>"
      ]
     },
     "metadata": {
      "needs_background": "light"
     },
     "output_type": "display_data"
    }
   ],
   "source": [
    "for model, df in balanced_lines_classification_results.items():\n",
    "    sns.scatterplot(data=df, x='num_examples', y='success', label=model)\n",
    "plt.ylim(-0.1, 1.1)\n",
    "plt.axhline(0, linestyle=':')\n",
    "plt.axhline(0.9, linestyle=':')\n",
    "plt.axhline(1, linestyle=':')\n",
    "plt.savefig('report/images/lowercase-classification-with-correlation.png')"
   ]
  },
  {
   "cell_type": "markdown",
   "id": "cec22af1",
   "metadata": {},
   "source": [
    "### Ok, looks like GPT-4 can classify at ~30 examples (GPT-3.5 doesn't do great). Now let's check reasoning."
   ]
  },
  {
   "cell_type": "markdown",
   "id": "185ebbd1",
   "metadata": {},
   "source": [
    "# Explaining Reasoning"
   ]
  },
  {
   "cell_type": "code",
   "execution_count": 10,
   "id": "dde34eed",
   "metadata": {},
   "outputs": [
    {
     "data": {
      "text/plain": [
       "'The classification rule is: if the statement is a complete sentence or question, it is labeled as False. If the statement is a fragment or partial sentence, it is labeled as True.'"
      ]
     },
     "execution_count": 10,
     "metadata": {},
     "output_type": "execute_result"
    }
   ],
   "source": [
    "num_examples = 40\n",
    "\n",
    "gpt_explain_reasoning(balanced_dataset(lines, is_lowercase).sample(\n",
    "    n=num_examples, random_state=42))"
   ]
  },
  {
   "cell_type": "markdown",
   "id": "35ef8363",
   "metadata": {},
   "source": [
    "### This is funny, as length-of-text is probably what's actually being looked at, because our initial dataset is correlated in this way. When we built the dataset we did this by looking at which text lines are *already* lower-case (which likely correlates with length and sentence-fragmentation) rather than constructing the data such that lines have equal length. Let's check..."
   ]
  },
  {
   "cell_type": "code",
   "execution_count": 30,
   "id": "81fec424",
   "metadata": {},
   "outputs": [
    {
     "data": {
      "text/html": [
       "<div>\n",
       "<style scoped>\n",
       "    .dataframe tbody tr th:only-of-type {\n",
       "        vertical-align: middle;\n",
       "    }\n",
       "\n",
       "    .dataframe tbody tr th {\n",
       "        vertical-align: top;\n",
       "    }\n",
       "\n",
       "    .dataframe thead th {\n",
       "        text-align: right;\n",
       "    }\n",
       "</style>\n",
       "<table border=\"1\" class=\"dataframe\">\n",
       "  <thead>\n",
       "    <tr style=\"text-align: right;\">\n",
       "      <th></th>\n",
       "      <th>text</th>\n",
       "      <th>label</th>\n",
       "      <th>num_words</th>\n",
       "    </tr>\n",
       "  </thead>\n",
       "  <tbody>\n",
       "    <tr>\n",
       "      <th>668</th>\n",
       "      <td>door.</td>\n",
       "      <td>True</td>\n",
       "      <td>1</td>\n",
       "    </tr>\n",
       "    <tr>\n",
       "      <th>1163</th>\n",
       "      <td>tell.</td>\n",
       "      <td>True</td>\n",
       "      <td>1</td>\n",
       "    </tr>\n",
       "    <tr>\n",
       "      <th>446</th>\n",
       "      <td>dinnertime?</td>\n",
       "      <td>True</td>\n",
       "      <td>1</td>\n",
       "    </tr>\n",
       "    <tr>\n",
       "      <th>1448</th>\n",
       "      <td>Come to the Centaur. Fetch our stuff from thence.</td>\n",
       "      <td>False</td>\n",
       "      <td>9</td>\n",
       "    </tr>\n",
       "    <tr>\n",
       "      <th>798</th>\n",
       "      <td>kindness.</td>\n",
       "      <td>True</td>\n",
       "      <td>1</td>\n",
       "    </tr>\n",
       "    <tr>\n",
       "      <th>...</th>\n",
       "      <td>...</td>\n",
       "      <td>...</td>\n",
       "      <td>...</td>\n",
       "    </tr>\n",
       "    <tr>\n",
       "      <th>320</th>\n",
       "      <td>too well feel his blows, and withal so doubtfully</td>\n",
       "      <td>True</td>\n",
       "      <td>9</td>\n",
       "    </tr>\n",
       "    <tr>\n",
       "      <th>1214</th>\n",
       "      <td>man, sir, that, when gentlemen are tired, gives</td>\n",
       "      <td>True</td>\n",
       "      <td>8</td>\n",
       "    </tr>\n",
       "    <tr>\n",
       "      <th>1756</th>\n",
       "      <td>But he, I thank him, gnawed in two my cords.</td>\n",
       "      <td>False</td>\n",
       "      <td>10</td>\n",
       "    </tr>\n",
       "    <tr>\n",
       "      <th>1708</th>\n",
       "      <td>And, gazing in mine eyes, feeling my pulse,</td>\n",
       "      <td>False</td>\n",
       "      <td>8</td>\n",
       "    </tr>\n",
       "    <tr>\n",
       "      <th>1741</th>\n",
       "      <td>what say you?</td>\n",
       "      <td>True</td>\n",
       "      <td>3</td>\n",
       "    </tr>\n",
       "  </tbody>\n",
       "</table>\n",
       "<p>362 rows × 3 columns</p>\n",
       "</div>"
      ],
      "text/plain": [
       "                                                   text  label  num_words\n",
       "668                                               door.   True          1\n",
       "1163                                              tell.   True          1\n",
       "446                                         dinnertime?   True          1\n",
       "1448  Come to the Centaur. Fetch our stuff from thence.  False          9\n",
       "798                                           kindness.   True          1\n",
       "...                                                 ...    ...        ...\n",
       "320   too well feel his blows, and withal so doubtfully   True          9\n",
       "1214    man, sir, that, when gentlemen are tired, gives   True          8\n",
       "1756       But he, I thank him, gnawed in two my cords.  False         10\n",
       "1708        And, gazing in mine eyes, feeling my pulse,  False          8\n",
       "1741                                      what say you?   True          3\n",
       "\n",
       "[362 rows x 3 columns]"
      ]
     },
     "execution_count": 30,
     "metadata": {},
     "output_type": "execute_result"
    }
   ],
   "source": [
    "df = balanced_dataset(lines, is_lowercase)\n",
    "df['num_words'] = df['text'].apply(lambda s: len(s.split()))\n",
    "df"
   ]
  },
  {
   "cell_type": "code",
   "execution_count": 31,
   "id": "75b45f18",
   "metadata": {},
   "outputs": [
    {
     "data": {
      "image/png": "[encoded data removed]",
      "text/plain": [
       "<Figure size 432x288 with 1 Axes>"
      ]
     },
     "metadata": {
      "needs_background": "light"
     },
     "output_type": "display_data"
    }
   ],
   "source": [
    "df.groupby('label')['num_words'].hist(bins=30, alpha=0.5, stacked=True)\n",
    "plt.xlabel('Number of Words')\n",
    "plt.ylabel('Frequency')\n",
    "plt.legend(['False', 'True'])\n",
    "plt.savefig('report/images/word-count-correlating-with-lowercase-class.png')"
   ]
  },
  {
   "cell_type": "markdown",
   "id": "9eb03f9e",
   "metadata": {},
   "source": [
    "### Yep, this well-separates the data."
   ]
  },
  {
   "cell_type": "markdown",
   "id": "a85ee676",
   "metadata": {},
   "source": [
    "# Let's make a new dataset to decorrelate from length: take the existing dataset and `.lower()` a randomly-selected half of it"
   ]
  },
  {
   "cell_type": "code",
   "execution_count": 13,
   "id": "559a856e",
   "metadata": {},
   "outputs": [],
   "source": [
    "lines_lowered = lines.copy()\n",
    "# Drop lines which are already lower-case, to remove length-correlation\n",
    "lines_lowered = lines_lowered[lines_lowered['text'].apply(is_lowercase) == False]\n",
    "\n",
    "random_half_indices = lines_lowered.sample(frac=0.5, random_state=42).index\n",
    "lines_lowered.loc[random_half_indices, 'text'] = lines_lowered.loc[random_half_indices, 'text'].str.lower()\n",
    "lines_lowered['label'] = lines_lowered['text'].apply(is_lowercase)"
   ]
  },
  {
   "cell_type": "code",
   "execution_count": 14,
   "id": "79b4d032",
   "metadata": {},
   "outputs": [
    {
     "data": {
      "text/html": [
       "<div>\n",
       "<style scoped>\n",
       "    .dataframe tbody tr th:only-of-type {\n",
       "        vertical-align: middle;\n",
       "    }\n",
       "\n",
       "    .dataframe tbody tr th {\n",
       "        vertical-align: top;\n",
       "    }\n",
       "\n",
       "    .dataframe thead th {\n",
       "        text-align: right;\n",
       "    }\n",
       "</style>\n",
       "<table border=\"1\" class=\"dataframe\">\n",
       "  <thead>\n",
       "    <tr style=\"text-align: right;\">\n",
       "      <th></th>\n",
       "      <th>text</th>\n",
       "      <th>label</th>\n",
       "    </tr>\n",
       "  </thead>\n",
       "  <tbody>\n",
       "    <tr>\n",
       "      <th>532</th>\n",
       "      <td>wouldst thou not spit at me, and spurn at me,</td>\n",
       "      <td>True</td>\n",
       "    </tr>\n",
       "    <tr>\n",
       "      <th>846</th>\n",
       "      <td>What, are you mad that you do reason so?</td>\n",
       "      <td>False</td>\n",
       "    </tr>\n",
       "    <tr>\n",
       "      <th>168</th>\n",
       "      <td>and stay there, dromio, till i come to thee.</td>\n",
       "      <td>True</td>\n",
       "    </tr>\n",
       "    <tr>\n",
       "      <th>214</th>\n",
       "      <td>to pay the saddler for my mistress’ crupper?</td>\n",
       "      <td>True</td>\n",
       "    </tr>\n",
       "    <tr>\n",
       "      <th>198</th>\n",
       "      <td>in quest of them, unhappy, lose myself.</td>\n",
       "      <td>True</td>\n",
       "    </tr>\n",
       "    <tr>\n",
       "      <th>...</th>\n",
       "      <td>...</td>\n",
       "      <td>...</td>\n",
       "    </tr>\n",
       "    <tr>\n",
       "      <th>704</th>\n",
       "      <td>So, come help. Well struck! There was blow fo</td>\n",
       "      <td>False</td>\n",
       "    </tr>\n",
       "    <tr>\n",
       "      <th>609</th>\n",
       "      <td>Sirrah, if any ask you for your master,</td>\n",
       "      <td>False</td>\n",
       "    </tr>\n",
       "    <tr>\n",
       "      <th>1358</th>\n",
       "      <td>Where would you had remained until this time,</td>\n",
       "      <td>False</td>\n",
       "    </tr>\n",
       "    <tr>\n",
       "      <th>710</th>\n",
       "      <td>You’ll cry for this, minion, if I beat the doo...</td>\n",
       "      <td>False</td>\n",
       "    </tr>\n",
       "    <tr>\n",
       "      <th>1266</th>\n",
       "      <td>have a chain. Master, be wise. An if you give ...</td>\n",
       "      <td>False</td>\n",
       "    </tr>\n",
       "  </tbody>\n",
       "</table>\n",
       "<p>1718 rows × 2 columns</p>\n",
       "</div>"
      ],
      "text/plain": [
       "                                                   text  label\n",
       "532       wouldst thou not spit at me, and spurn at me,   True\n",
       "846            What, are you mad that you do reason so?  False\n",
       "168        and stay there, dromio, till i come to thee.   True\n",
       "214        to pay the saddler for my mistress’ crupper?   True\n",
       "198             in quest of them, unhappy, lose myself.   True\n",
       "...                                                 ...    ...\n",
       "704       So, come help. Well struck! There was blow fo  False\n",
       "609             Sirrah, if any ask you for your master,  False\n",
       "1358      Where would you had remained until this time,  False\n",
       "710   You’ll cry for this, minion, if I beat the doo...  False\n",
       "1266  have a chain. Master, be wise. An if you give ...  False\n",
       "\n",
       "[1718 rows x 2 columns]"
      ]
     },
     "execution_count": 14,
     "metadata": {},
     "output_type": "execute_result"
    }
   ],
   "source": [
    "balanced_lines_lowered = balanced_dataset(lines_lowered, is_lowercase)\n",
    "balanced_lines_lowered"
   ]
  },
  {
   "cell_type": "code",
   "execution_count": 32,
   "id": "3888c268",
   "metadata": {},
   "outputs": [
    {
     "data": {
      "image/png": "[encoded data removed]",
      "text/plain": [
       "<Figure size 432x288 with 1 Axes>"
      ]
     },
     "metadata": {
      "needs_background": "light"
     },
     "output_type": "display_data"
    }
   ],
   "source": [
    "# Double-check length-correlation\n",
    "df = balanced_lines_lowered\n",
    "df['num_words'] = df['text'].apply(lambda s: len(s.split()))\n",
    "\n",
    "df.groupby('label')['num_words'].hist(bins=30, alpha=0.5, stacked=True)\n",
    "\n",
    "plt.xlabel('Number of Words')\n",
    "plt.ylabel('Frequency')\n",
    "plt.legend(['False', 'True'])\n",
    "plt.savefig('report/images/word-count-decorrelated-from-lowercase-class.png')"
   ]
  },
  {
   "cell_type": "code",
   "execution_count": 16,
   "id": "bccd6811",
   "metadata": {},
   "outputs": [],
   "source": [
    "# Load the files, if we've run this before, else calculate & save\n",
    "\n",
    "stem = 'forced_lowercase_classification_results'\n",
    "\n",
    "if glob.glob(f'data/{stem}*feather'):\n",
    "    forced_lowercase_classification_results = load_dict_of_dfs_with_df_elements(\n",
    "        filename_stem=stem,\n",
    "        models_to_load=['gpt-3.5-turbo', 'gpt-4']\n",
    "    )\n",
    "else:\n",
    "    forced_lowercase_classification_results = run_gpt_classification(\n",
    "        balanced_lines_lowered,\n",
    "        max_num_examples=100,\n",
    "        models_to_run=['gpt-3.5-turbo', 'gpt-4']\n",
    "    )\n",
    "    save_dict_of_dfs_with_df_elements(\n",
    "        forced_lowercase_classification_results,\n",
    "        stem\n",
    "    )"
   ]
  },
  {
   "cell_type": "code",
   "execution_count": 34,
   "id": "e6084dea",
   "metadata": {},
   "outputs": [
    {
     "data": {
      "image/png": "[encoded data removed]",
      "text/plain": [
       "<Figure size 432x288 with 1 Axes>"
      ]
     },
     "metadata": {
      "needs_background": "light"
     },
     "output_type": "display_data"
    }
   ],
   "source": [
    "for k, v in forced_lowercase_classification_results.items():\n",
    "    sns.scatterplot(data=v, x='num_examples', y='success', label=k)\n",
    "\n",
    "plt.ylim(0, 1)\n",
    "plt.axhline(0.9, linestyle=':')\n",
    "plt.legend(loc='lower center')\n",
    "plt.savefig('report/images/lowercase-classification-without-correlation.png')"
   ]
  },
  {
   "cell_type": "markdown",
   "id": "3ed662dc",
   "metadata": {},
   "source": [
    "### Ok, looks like we get fairly-reliable good classification from ~50 examples."
   ]
  },
  {
   "cell_type": "markdown",
   "id": "64c7b8fc",
   "metadata": {},
   "source": [
    "### What's the reasoning now?"
   ]
  },
  {
   "cell_type": "code",
   "execution_count": 18,
   "id": "a972a095",
   "metadata": {},
   "outputs": [
    {
     "name": "stdout",
     "output_type": "stream",
     "text": [
      "=== 20 ===\n",
      "The classification rule seems to be that statements starting with the word 'when', but, ah, my and our are labelled as True. All other statements are labelled as False.\n",
      "=== 35 ===\n",
      "The classification rule seems to be that statements where the speaker is posed in various situations or forming a question are labeled as true, while statements where the speaker expresses a view, describes a situation or is in action are labeled as false.\n",
      "=== 40 ===\n",
      "The classification rule is: statements that are structured as questions or exclaimations are given the label \"True\". All other types of statements are given the label \"False\".\n",
      "=== 80 ===\n",
      "The classification rule appears to label any Shakespearean verse that is in the form of a question or has a transitive property i.e., it involves an action performed by a subject to an object as True. Statements that involve proclamations or assertions are labeled as False.\n",
      "=== 100 ===\n",
      "The classification rule seems to be: statements are labelled \"True\" when they are questions, requests, or statements that express feelings, thoughts or the character's personal perspective on an event. In contrast, they are labelled \"False\" when they are declarative statements which describe an event, a person, or give an order/command without expressing personal emotion or opinion.\n"
     ]
    }
   ],
   "source": [
    "for num_examples in [20, 35, 40, 80, 100]:\n",
    "    print('===', num_examples, '===')\n",
    "    print(gpt_explain_reasoning(balanced_lines_lowered.sample(n=num_examples,\n",
    "                                                              random_state=42)))"
   ]
  },
  {
   "cell_type": "markdown",
   "id": "82ead067",
   "metadata": {},
   "source": [
    "### Ok interesting, looks like it's still not describing \"is_lower\", even in regimes where classification accuracy is good.\n",
    "\n",
    "### It would be strange if this classification rule was correct, but it's harder to check than for the earlier attempt. Let's ask GPT to mark its own work..."
   ]
  },
  {
   "cell_type": "markdown",
   "id": "aa798b35",
   "metadata": {},
   "source": [
    "# Let's see how GPT-4 does when told to use the rules it claims to detect"
   ]
  },
  {
   "cell_type": "markdown",
   "id": "aef8b568",
   "metadata": {},
   "source": [
    "### First try on the training data given to gpt_explain_reasoning..."
   ]
  },
  {
   "cell_type": "code",
   "execution_count": 19,
   "id": "ba426516",
   "metadata": {},
   "outputs": [],
   "source": [
    "train, test = train_test_split(balanced_lines_lowered, train_size=100, random_state=42)"
   ]
  },
  {
   "cell_type": "code",
   "execution_count": 20,
   "id": "58bb09ed",
   "metadata": {},
   "outputs": [
    {
     "data": {
      "text/plain": [
       "\"The classification rule seems to be selecting for statements that are introspective, self-referential or containing a sentiment or moral judgment. Statements that are either factual or part of interpersonal dialogue are labeled as 'False'.\""
      ]
     },
     "execution_count": 20,
     "metadata": {},
     "output_type": "execute_result"
    }
   ],
   "source": [
    "gpt_explain_reasoning(train)"
   ]
  },
  {
   "cell_type": "code",
   "execution_count": 21,
   "id": "6ca9b378",
   "metadata": {},
   "outputs": [
    {
     "data": {
      "application/vnd.jupyter.widget-view+json": {
       "model_id": "",
       "version_major": 2,
       "version_minor": 0
      },
      "text/plain": [
       "  0%|          | 0/20 [00:00<?, ?it/s]"
      ]
     },
     "metadata": {},
     "output_type": "display_data"
    },
    {
     "data": {
      "text/plain": [
       "0.4"
      ]
     },
     "execution_count": 21,
     "metadata": {},
     "output_type": "execute_result"
    }
   ],
   "source": [
    "responses, correct, success_ratio = consecutive_classify_using_rule(\n",
    "    train.sample(n=20, random_state=42),\n",
    "    rule=\"\"\"\n",
    "The classification rule is \"True\" for sentences that contain or imply\n",
    "a speaker taking action or expressing a subjective thought or emotion,\n",
    "whereas sentences labelled \"False\" are primarily attempts at communicating with others,\n",
    "asking questions, or stating facts/observations.'\n",
    "\"\"\",\n",
    "    model='gpt-4'\n",
    ")\n",
    "success_ratio"
   ]
  },
  {
   "cell_type": "markdown",
   "id": "5aaa74d8",
   "metadata": {},
   "source": [
    "### ... and then on held-out samples"
   ]
  },
  {
   "cell_type": "code",
   "execution_count": 22,
   "id": "6dcd59ea",
   "metadata": {},
   "outputs": [
    {
     "data": {
      "application/vnd.jupyter.widget-view+json": {
       "model_id": "",
       "version_major": 2,
       "version_minor": 0
      },
      "text/plain": [
       "  0%|          | 0/20 [00:00<?, ?it/s]"
      ]
     },
     "metadata": {},
     "output_type": "display_data"
    },
    {
     "data": {
      "text/plain": [
       "0.4"
      ]
     },
     "execution_count": 22,
     "metadata": {},
     "output_type": "execute_result"
    }
   ],
   "source": [
    "responses, correct, success_ratio = consecutive_classify_using_rule(\n",
    "    test.sample(n=20, random_state=42),\n",
    "    rule=\"\"\"\n",
    "The classification rule is \"True\" for sentences that contain or imply\n",
    "a speaker taking action or expressing a subjective thought or emotion,\n",
    "whereas sentences labelled \"False\" are primarily attempts at communicating with others,\n",
    "asking questions, or stating facts/observations.'\n",
    "\"\"\",\n",
    "    model='gpt-4'\n",
    ")\n",
    "success_ratio"
   ]
  },
  {
   "cell_type": "markdown",
   "id": "0fca560c",
   "metadata": {},
   "source": [
    "### So it looks like it's either not succeeding (~0.5 for train & test)\n",
    "### or it sometimes overfits to the training examples: eg. success(train) = 0.7, success(test) = 0.4"
   ]
  },
  {
   "cell_type": "markdown",
   "id": "c6750ec0",
   "metadata": {},
   "source": [
    "# Let's think about multi-choice. How much info do we leak by mentioning letter-case?"
   ]
  },
  {
   "cell_type": "markdown",
   "id": "5214e8e8",
   "metadata": {},
   "source": [
    "# Hinting"
   ]
  },
  {
   "cell_type": "code",
   "execution_count": 23,
   "id": "d5329715",
   "metadata": {},
   "outputs": [
    {
     "name": "stdout",
     "output_type": "stream",
     "text": [
      "=== 20 ===\n",
      "The classification rule is depends on the first letter of the sentence. If the sentence starts with a lowercase letter, it's labelled as 'True'. If the sentence starts with an uppercase letter, it's labelled as 'False'.\n",
      "=== 35 ===\n",
      "The classification rule is that if the first letter in the sentence is not capitalized, the label is 'True'. If it is capitalized, the label is 'False'.\n",
      "=== 40 ===\n",
      "The classification rule is based on the letter case. If a statement starts with a lowercase letter, it is labelled 'True.' On the other hand, if a statement starts with an uppercase letter, it is labelled 'False.'\n",
      "=== 80 ===\n",
      "The classification rule is: statements with the first letter of all words in lowercase are labeled as 'True', and statements with the first letter of the first word in uppercase are labeled as 'False'.\n",
      "=== 100 ===\n",
      "The classification rule is: if the statement starts with a lowercase letter, it is labelled as 'True'. If it starts with an uppercase letter, it is labelled as 'False'.\n"
     ]
    }
   ],
   "source": [
    "for num_examples in [20, 35, 40, 80, 100]:\n",
    "    print('===', num_examples, '===')\n",
    "    print(gpt_explain_reasoning(\n",
    "        balanced_lines_lowered.sample(n=num_examples),\n",
    "        system_prompt=(\n",
    "            \"You are given some statements, which are labelled with categories. \"\n",
    "            \"Describe the classification rule.\"\n",
    "            \"(Hint: consider the letter case)\"\n",
    "        )\n",
    "    ))"
   ]
  },
  {
   "cell_type": "markdown",
   "id": "8f11d8e2",
   "metadata": {},
   "source": [
    "It looks like there's basically two classification rules being suggested, when a \"letter-case\" hint is given:\n",
    "- *\"if the first letter of the statement is in lower case, then the label is True\"*\n",
    "- *\"if the sentence is written in lowercase, it is labeled as True, and if it is written in capital letters, it is labeled as False.\"*\n",
    "\n",
    "Neither is *quite* correct, but the second is close. (Sentences labeled 'False' *contain* capitals, they're not \"written in\" capitals.)"
   ]
  },
  {
   "cell_type": "markdown",
   "id": "bfc656df",
   "metadata": {},
   "source": [
    "### Let's compare the scores of these two rules, to each other and to GPT-4's classification success."
   ]
  },
  {
   "cell_type": "markdown",
   "id": "621539e6",
   "metadata": {},
   "source": [
    "*\"if the first letter of the statement is in lower case, then the label is True\"*"
   ]
  },
  {
   "cell_type": "code",
   "execution_count": 24,
   "id": "c188b797",
   "metadata": {},
   "outputs": [
    {
     "data": {
      "text/plain": [
       "0.980791618160652"
      ]
     },
     "execution_count": 24,
     "metadata": {},
     "output_type": "execute_result"
    }
   ],
   "source": [
    "first_letter_is_lower_case = balanced_lines_lowered['text'].apply(\n",
    "    lambda s: s[0].islower() if s else False)\n",
    "\n",
    "correct = (first_letter_is_lower_case == balanced_lines_lowered['label'])\n",
    "sum(correct) / len(correct)"
   ]
  },
  {
   "cell_type": "markdown",
   "id": "c7f55495",
   "metadata": {},
   "source": [
    "*\"if the sentence is written in lowercase, it is labeled as True, and if it is written in capital letters, it is labeled as False.\"*"
   ]
  },
  {
   "cell_type": "code",
   "execution_count": 25,
   "id": "38c8d689",
   "metadata": {},
   "outputs": [
    {
     "data": {
      "text/plain": [
       "1.0"
      ]
     },
     "execution_count": 25,
     "metadata": {},
     "output_type": "execute_result"
    }
   ],
   "source": [
    "sentence_is_lower_case = balanced_lines_lowered['text'].apply(\n",
    "    lambda s: s.islower() if s else False)\n",
    "\n",
    "correct = (sentence_is_lower_case == balanced_lines_lowered['label'])\n",
    "sum(correct) / len(correct)"
   ]
  },
  {
   "cell_type": "markdown",
   "id": "319ea078",
   "metadata": {},
   "source": [
    "*... and if it is written in capital letters, it is labeled as False.\"*"
   ]
  },
  {
   "cell_type": "code",
   "execution_count": 26,
   "id": "afb4e77f",
   "metadata": {},
   "outputs": [
    {
     "data": {
      "text/plain": [
       "0"
      ]
     },
     "execution_count": 26,
     "metadata": {},
     "output_type": "execute_result"
    }
   ],
   "source": [
    "sentence_is_upper_case = balanced_lines_lowered['text'].apply(\n",
    "    lambda s: s.isupper() if s else False)\n",
    "\n",
    "sentence_is_upper_case.sum()"
   ]
  },
  {
   "cell_type": "markdown",
   "id": "2c23e98d",
   "metadata": {},
   "source": [
    "### Since hinting about letter-case leads GPT-4 to successfully identify a good (>98%) classification rule, it seems silly to do multiple-choice comparing GPT's default suggested rules with real rules"
   ]
  },
  {
   "cell_type": "markdown",
   "id": "4a0fcb35",
   "metadata": {},
   "source": [
    "# Chain-of-Thought"
   ]
  },
  {
   "cell_type": "code",
   "execution_count": 27,
   "id": "83a752e7",
   "metadata": {},
   "outputs": [
    {
     "name": "stdout",
     "output_type": "stream",
     "text": [
      "=== 20 ===\n",
      "Rule 1: If the statement contains exclamatory or interrogative words or phrases, the label is likely True.\n",
      "\n",
      "Rule 2: If the statement is a declarative sentence and does not express any surprise, doubt, or question, the label is likely False.\n",
      "\n",
      "Choosing the most likely rule, Rule 2 seems more accurate as it holds true for a larger number of sentences in the given set. It correctly classifies the majority of the examples, while Rule 1 fails to classify some of the sentences correctly.\n",
      "=== 35 ===\n",
      "Rule 1: If the statement includes the words \"my\", \"I\", or \"me\", then the label is True. If not, then it's False.\n",
      "\n",
      "- Example: \"I know thou canst, and therefore see thou do it.\" --> As per Rule 1: it contains the word \"I\", so the label should be True. But it's labeled as False in the dataset. Hence, Rule 1 is not completely accurate.\n",
      "\n",
      "Rule 2: If the statement is written in the first person point of view (use of words like 'my', 'me', 'I' etc.), then the label is True otherwise it is False. \n",
      "\n",
      "- Example: \"I know thou canst, and therefore see thou do it.\" --> As per Rule 2: it contains the word \"I\", indicating it's written in the first person, so the label should be True. But it's labeled as False in the dataset. Hence, Rule 2 is also flawed.\n",
      "\n",
      "Based on the given dataset it seems that, the labelling may not be based on the content of the sentences, but rather some external context, hence it's difficult to form an accurate rule. However, the rules formed above are helpful in deciding labels for most of the statements, yet they are not completely accurate.\n",
      "=== 40 ===\n",
      "The task consists of classifying sentences from a Shakespearean play in their original language with the labels \"True\" or \"False\". However, it doesn't provide context about what \"True\" and \"False\" stand for, making it challenging to establish clear rules. Here are two potential classification rules based on observed patterns:\n",
      "\n",
      "1) Rule 1: The label is \"True\" if the sentence is presented from the first-person perspective and is expressing a thought, an action, or an interaction with another character. The label is \"False\" if the sentence is providing a description, a hypothetical scenario, or a judgment about a character or a situation.\n",
      "   \n",
      "2) Rule 2: The label \"True\" is given for sentences where a character is expressing or doing something on their own or showing inward-focused sentiment. The label \"False\" is assigned when the character describes situations or provides judgments about someone else or the environment around them.\n",
      "\n",
      "Based on the examples, it seems that Rule 1 slightly fits better: \n",
      "- The statements tend to be labeled \"True\" when they depict a situation, action, or emotion expressed by a character or a direct addressing to another character. \n",
      "- On the contrary, statements tend to be labeled \"False\" when they provide a description of a scene or if they are stating an abstract sentiment or hypothetical.\n",
      "\n",
      "However, the lack of clear overarching rules due to the missing context may lead to examples that could contradict even the chosen classification.\n",
      "=== 80 ===\n",
      "Possible Rule 1:\n",
      "If the statement includes a reference to a question or a command, it is labeled as 'True'. If the statement is a self-contained assertion without any questions or orders, it's labeled 'False'.\n",
      "\n",
      "Possible Rule 2:\n",
      "If the statement contains personal pronouns (I, me, you, etc.), it may be labeled as 'True'. If it has no personal markers and is more general or narrative, it may be labeled as 'False'.\n",
      "\n",
      "Comparing the two, Rule 1 seems more likely to be correct as there are instances where Rule 2 fails. For instance, statement \"Once did I get him bound and sent him home\" includes personal pronouns but is labeled 'False'. Also, \"Master, here’s the gold you sent\" contains personal markers but is labeled 'False'. On the contrary, Rule 1 seems to work well as all commands or questions are labeled 'True' and narrative statements are labeled 'False'. Thus, Rule 1 is the most likely here.\n",
      "=== 100 ===\n",
      "Classification Rule 1: Any sentence that ends with question sign \"?\" or starts with \"and\" is marked as 'True.'\n",
      "Classification Rule 2: Any sentence that starts with \"that\", \"because\", or \"if\", or has a comma \",\" in the middle, is marked as 'False.'\n",
      "\n",
      "Final Classification Rule: The performance of the first rule is clearly better than the second rule, thus it will be picked. However, there is a need to improve and optimize the rule due to some misclassified instances. Therefore, we need a more clear rule. \n",
      "\n",
      "The new proposed rule would be any sentence with direct dialogue (using 'I'', you', 'me', 'my', etc) and mentions personal conditions or actions are marked 'True'. Any sentence that ends with a period \".\" and contains no immediate reaction or dialogue is labeled 'False' because it appears to be an action or condition not directly related to a personal situation.\n"
     ]
    }
   ],
   "source": [
    "for num_examples in [20, 35, 40, 80, 100]:\n",
    "    print('===', num_examples, '===')\n",
    "    print(gpt_explain_reasoning(\n",
    "        balanced_lines_lowered.sample(n=num_examples, random_state=42),\n",
    "        system_prompt=(\n",
    "            \"You are given some statements, which are labelled with categories. \"\n",
    "            \"Consider at least two possible classification rules, \"\n",
    "            \"showing your thinking step-by-step, and choose the most likely.\"\n",
    "        )\n",
    "    ))"
   ]
  }
 ],
 "metadata": {
  "kernelspec": {
   "display_name": "Python 3 (ipykernel)",
   "language": "python",
   "name": "python3"
  },
  "language_info": {
   "codemirror_mode": {
    "name": "ipython",
    "version": 3
   },
   "file_extension": ".py",
   "mimetype": "text/x-python",
   "name": "python",
   "nbconvert_exporter": "python",
   "pygments_lexer": "ipython3",
   "version": "3.10.5"
  }
 },
 "nbformat": 4,
 "nbformat_minor": 5
}
